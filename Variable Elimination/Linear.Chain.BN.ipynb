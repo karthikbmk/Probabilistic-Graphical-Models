{
 "cells": [
  {
   "cell_type": "markdown",
   "metadata": {},
   "source": [
    "###Inference in Linear Chain Bayesian Networks - Variable Elimination"
   ]
  },
  {
   "cell_type": "markdown",
   "metadata": {},
   "source": [
    "####We have a linear chain Bayesian network\n",
    "<img src=\"BN.png\" alt=\"BN\" align = \"left\">  <br/>\n",
    "<p align = \"left\">All variables are binary with T and F. The parameters are as follows:<br/>\n",
    "P(X1=T) = 0.1<br/>\n",
    "P(Xi+1 = T | Xi = T) = 0.2<br/>\n",
    "(Xi+1 = T | Xi = F) = 0.9</p>"
   ]
  },
  {
   "cell_type": "code",
   "execution_count": 2,
   "metadata": {
    "collapsed": true
   },
   "outputs": [],
   "source": [
    "def P(A,B='exclude'):\n",
    "    if B == 'exclude':\n",
    "        if A == 'T':\n",
    "            return 0.1\n",
    "        else:\n",
    "            return 0.9\n",
    "    else:\n",
    "        if B == 'T' and A == 'T':\n",
    "            return 0.2\n",
    "        elif B == 'F' and A == 'T':\n",
    "            return 0.8\n",
    "        elif B == 'T' and A =='F':\n",
    "            return 0.9\n",
    "        else:\n",
    "            return 0.1"
   ]
  },
  {
   "cell_type": "code",
   "execution_count": 3,
   "metadata": {
    "collapsed": false
   },
   "outputs": [],
   "source": [
    "def eliminate(prev_tow=None):\n",
    "    table = []\n",
    "    \n",
    "    for b in ['T','F']:\n",
    "        for a in ['T','F']:\n",
    "            if prev_tow == None:\n",
    "                table.append(P(a) * P(a,b))\n",
    "            else:\n",
    "                table.append(prev_tow[a] * P(a,b))\n",
    "    \n",
    "    true_tow = table[0] + table[1]\n",
    "    false_tow = 1 - true_tow\n",
    "    \n",
    "    return {'T' : true_tow, 'F' : false_tow}"
   ]
  },
  {
   "cell_type": "code",
   "execution_count": 4,
   "metadata": {
    "collapsed": false
   },
   "outputs": [],
   "source": [
    "def iterate(n):\n",
    "    prev_tow= None\n",
    "    \n",
    "    for i in range(1,n + 1):    \n",
    "        prev_tow = eliminate(prev_tow)\n",
    "    \n",
    "    return prev_tow"
   ]
  },
  {
   "cell_type": "markdown",
   "metadata": {},
   "source": [
    "####What's P(X12 = T ) ?"
   ]
  },
  {
   "cell_type": "code",
   "execution_count": 5,
   "metadata": {
    "collapsed": false
   },
   "outputs": [
    {
     "name": "stdout",
     "output_type": "stream",
     "text": [
      "{'T': 0.537902638367, 'F': 0.46209736163299997}\n"
     ]
    }
   ],
   "source": [
    "x = iterate(11)\n",
    "print x"
   ]
  }
 ],
 "metadata": {
  "kernelspec": {
   "display_name": "Python 2",
   "language": "python",
   "name": "python2"
  },
  "language_info": {
   "codemirror_mode": {
    "name": "ipython",
    "version": 2
   },
   "file_extension": ".py",
   "mimetype": "text/x-python",
   "name": "python",
   "nbconvert_exporter": "python",
   "pygments_lexer": "ipython2",
   "version": "2.7.11"
  }
 },
 "nbformat": 4,
 "nbformat_minor": 0
}
