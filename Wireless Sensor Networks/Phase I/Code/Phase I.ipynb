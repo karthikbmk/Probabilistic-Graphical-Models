{
 "cells": [
  {
   "cell_type": "markdown",
   "metadata": {},
   "source": [
    "<h2>Phase I : Bayesian Network with Independant Random Variables </h2>"
   ]
  },
  {
   "cell_type": "code",
   "execution_count": 1,
   "metadata": {
    "collapsed": false
   },
   "outputs": [],
   "source": [
    "import numpy as np\n",
    "from itertools import cycle\n",
    "import matplotlib.pyplot as plt\n",
    "from collections import defaultdict\n",
    "import pandas as pd\n",
    "import os as os\n",
    "%matplotlib inline"
   ]
  },
  {
   "cell_type": "code",
   "execution_count": 2,
   "metadata": {
    "collapsed": false
   },
   "outputs": [],
   "source": [
    "def get_data_matrix(file_path):    \n",
    "    '''Strip out the first row and first column and return data matrix'''\n",
    "    data = np.loadtxt(file_path, delimiter=',', skiprows=1)\n",
    "    return data[:,1:]"
   ]
  },
  {
   "cell_type": "code",
   "execution_count": 3,
   "metadata": {
    "collapsed": false
   },
   "outputs": [],
   "source": [
    "def get_reading_for_diff_days(data_matrix,train_days):\n",
    "    '''Gets the readings of sensors and their timestamps across different days'''\n",
    "    \n",
    "    no_of_sensors = data_matrix.shape[0]\n",
    "    time_stamps= data_matrix.shape[1]/train_days\n",
    "\n",
    "    consolidated_readings = []\n",
    "    \n",
    "    for sensor_id in range(0,no_of_sensors):\n",
    "        \n",
    "        row_list = []\n",
    "        \n",
    "        for time_stamp in range(0,time_stamps):\n",
    "            \n",
    "            day1_idx = time_stamp + (time_stamps*0)\n",
    "            day2_idx = time_stamp + (time_stamps*1)\n",
    "            day3_idx = time_stamp + (time_stamps*2)\n",
    "            \n",
    "            row_list.append((data_matrix[sensor_id,day1_idx],data_matrix[sensor_id,day2_idx],data_matrix[sensor_id,day3_idx]))\n",
    "        \n",
    "        consolidated_readings.append(row_list)\n",
    "    \n",
    "    return consolidated_readings"
   ]
  },
  {
   "cell_type": "markdown",
   "metadata": {},
   "source": [
    "<h3> Estimate Gaussian Model parameters : <font color= 'green'>N(μ,σ)</font> </h3>"
   ]
  },
  {
   "cell_type": "code",
   "execution_count": 4,
   "metadata": {
    "collapsed": false
   },
   "outputs": [],
   "source": [
    "def get_params(consolidated_readings):\n",
    "    '''Compute the mean and variance of each readings and store it in an numpy matrix'''\n",
    "    max_sensors = consolidated_readings.shape[0]\n",
    "    max_time_stamps = consolidated_readings.shape[1]\n",
    "\n",
    "    params = np.zeros((max_sensors,max_time_stamps),dtype=tuple)\n",
    "\n",
    "    for i in range(0,max_sensors):\n",
    "        for j in range(0,max_time_stamps):        \n",
    "\n",
    "            _mean= np.mean(consolidated_readings[i,j])\n",
    "            _var = np.var(consolidated_readings[i,j])\n",
    "\n",
    "            params[i,j] = (_mean, _var)\n",
    "\n",
    "    return params"
   ]
  },
  {
   "cell_type": "markdown",
   "metadata": {},
   "source": [
    "<h3> Active Inference I : <font color = 'green'>Window Sliding</font> </h3>"
   ]
  },
  {
   "cell_type": "code",
   "execution_count": 5,
   "metadata": {
    "collapsed": true
   },
   "outputs": [],
   "source": [
    "def chunks(_list,size):\n",
    "    '''Get Chunks of size size from a list _list '''\n",
    "    for x in xrange(0, len(_list),size):\n",
    "        yield _list[x:x+size]"
   ]
  },
  {
   "cell_type": "code",
   "execution_count": 6,
   "metadata": {
    "collapsed": false
   },
   "outputs": [],
   "source": [
    "def get_windows(no_of_sensors,no_of_cols,budget):    \n",
    "    '''Get the window indices for each column/each time-stamp'''\n",
    "    pool = cycle(range(0,no_of_sensors))\n",
    "\n",
    "    final_list = []\n",
    "\n",
    "    if budget == 0 :\n",
    "        \n",
    "        for _ in range(0,no_of_cols):\n",
    "            final_list.append([])\n",
    "            \n",
    "        return final_list\n",
    "    \n",
    "    else:\n",
    "        \n",
    "        for _id,x in enumerate(pool):\n",
    "            if _id == budget * no_of_cols:\n",
    "                break\n",
    "            final_list.append(x)\n",
    "\n",
    "        return list(chunks(final_list, budget))"
   ]
  },
  {
   "cell_type": "markdown",
   "metadata": {},
   "source": [
    "<h4> Build Prediction matrix using Window Sliding </h4>"
   ]
  },
  {
   "cell_type": "code",
   "execution_count": 7,
   "metadata": {
    "collapsed": false
   },
   "outputs": [],
   "source": [
    "def build_pred_mat_using_sliding(test_matrix,budget,modelled_matrix,max_cols=48):\n",
    "    '''Predict the ones that are not in window. For the rest, use existing data'''\n",
    "    total_cols = test_matrix.shape[1]\n",
    "    total_rows = test_matrix.shape[0]\n",
    "\n",
    "    windows = get_windows(total_rows,total_cols,budget)\n",
    "\n",
    "    \n",
    "    for col in range(0,total_cols):\n",
    "        \n",
    "        if col >= max_cols:\n",
    "            mod_col = col % max_cols\n",
    "        else:\n",
    "            mod_col = col\n",
    "        #Row Ids to be predicted\n",
    "        pred_row_ids = set(range(0,total_rows)) - set(windows[col])\n",
    "        \n",
    "\n",
    "        for r_id in pred_row_ids:\n",
    "            #Assign Mu\n",
    "            test_matrix[r_id,col] = modelled_matrix[r_id][mod_col][0]\n",
    "    \n",
    "    return test_matrix\n"
   ]
  },
  {
   "cell_type": "code",
   "execution_count": 8,
   "metadata": {
    "collapsed": true
   },
   "outputs": [],
   "source": [
    "def mean_abs_error(actual_mat,pred_mat):\n",
    "    '''Compute the mean absolute error'''\n",
    "    diff_mat = np.subtract(actual_mat,pred_mat)\n",
    "    diff_mat = np.fabs(diff_mat)\n",
    "    \n",
    "    total_cells = diff_mat.shape[0] * diff_mat.shape[1]\n",
    "    \n",
    "    mean_abs_error = float(np.sum(diff_mat))/ total_cells\n",
    "    \n",
    "    return mean_abs_error"
   ]
  },
  {
   "cell_type": "markdown",
   "metadata": {},
   "source": [
    "<h3> Active Inference II : <font color = 'green'>Variance</font> </h3>"
   ]
  },
  {
   "cell_type": "code",
   "execution_count": 9,
   "metadata": {
    "collapsed": true
   },
   "outputs": [],
   "source": [
    "def top_k_indices(_list,k):\n",
    "    '''Return the indices of top k elements of the list'''\n",
    "    return sorted(range(len(_list)), key=lambda i: _list[i], reverse=True)[:k]"
   ]
  },
  {
   "cell_type": "code",
   "execution_count": 10,
   "metadata": {
    "collapsed": false
   },
   "outputs": [],
   "source": [
    "def get_top_var_indices(mod_mat,budget):\n",
    "    '''Extract the indices of cells with top k budgets'''\n",
    "    total_cols = mod_mat.shape[1]\n",
    "    \n",
    "    indices_list = []\n",
    "    for col_id in range(0,total_cols):\n",
    "        \n",
    "        #Extract Mu, sigma for a particular column\n",
    "        cur_col = mod_mat[:,col_id]\n",
    "        \n",
    "        #Extract only sigma from cu_col\n",
    "        sigma_col = [x[1] for x in cur_col]\n",
    "        \n",
    "        top_indices = top_k_indices(sigma_col,budget)\n",
    "        \n",
    "        indices_list.append(top_indices)\n",
    "    \n",
    "    return indices_list"
   ]
  },
  {
   "cell_type": "markdown",
   "metadata": {},
   "source": [
    "<h4> Build Prediction matrix using Variance </h4>"
   ]
  },
  {
   "cell_type": "code",
   "execution_count": 11,
   "metadata": {
    "collapsed": true
   },
   "outputs": [],
   "source": [
    "def build_pred_mat_using_Variance(test_matrix,budget,modelled_matrix,max_cols=48):\n",
    "    '''Predict the ones that are not among the top budget variances. For the rest, use existing data'''\n",
    "    total_cols = test_matrix.shape[1]\n",
    "    total_rows = test_matrix.shape[0]\n",
    "\n",
    "    top_var = get_top_var_indices(modelled_matrix,budget)\n",
    "\n",
    "    \n",
    "    for col in range(0,total_cols):\n",
    "        \n",
    "        if col >= max_cols:\n",
    "            mod_col = col % max_cols\n",
    "        else:\n",
    "            mod_col = col\n",
    "        #Row Ids to be predicted\n",
    "        pred_row_ids = set(range(0,total_rows)) - set(top_var[mod_col])\n",
    "        \n",
    "\n",
    "        for r_id in pred_row_ids:\n",
    "            #Assign Mu\n",
    "            test_matrix[r_id,col] = modelled_matrix[r_id][mod_col][0]\n",
    "    \n",
    "    return test_matrix"
   ]
  },
  {
   "cell_type": "code",
   "execution_count": 12,
   "metadata": {
    "collapsed": false
   },
   "outputs": [],
   "source": [
    "def predict(Data_sets,Inf_techniques):\n",
    "    '''Predict the Readings'''\n",
    "    main_mas = defaultdict(lambda : defaultdict(lambda : []))\n",
    "    \n",
    "    for data_set in Data_sets:\n",
    "        sub_mas = defaultdict(lambda : [])\n",
    "        \n",
    "        for act_inf in Inf_techniques:\n",
    "\n",
    "            print ''\n",
    "            print data_set,act_inf\n",
    "                        \n",
    "            \n",
    "            for budget in [0,5,10,20,25]:\n",
    "                \n",
    "                #Get the Train Matrix\n",
    "                train_ds_path = 'Dataset\\intel'+ data_set +'Train.csv'\n",
    "                data_matrix = get_data_matrix(train_ds_path)\n",
    "\n",
    "                #Consolidate Readings\n",
    "                consolidated_readings = get_reading_for_diff_days(data_matrix,3) #3 days of train data.\n",
    "                consolidated_readings = np.array(consolidated_readings)\n",
    "\n",
    "                #Compute Gaussian Params\n",
    "                modelled_matrix = get_params(consolidated_readings)\n",
    "\n",
    "                #Get the Test Matrix\n",
    "                test_ds_path = 'Dataset\\intel'+ data_set +'Test.csv'\n",
    "                test_matrix = get_data_matrix(test_ds_path)\n",
    "\n",
    "                #Predict       \n",
    "                file_name = os.path.join('Results', '')\n",
    "                file_name += data_set\n",
    "                file_name = os.path.join(file_name, '')\n",
    "                \n",
    "                \n",
    "                if act_inf == 'WINDOW':\n",
    "                                        \n",
    "                    file_name += 'w'+str(budget)+'.csv'\n",
    "                    \n",
    "                    pred_matrix = build_pred_mat_using_sliding(test_matrix,budget,modelled_matrix,48) #48 timestamps\n",
    "                    \n",
    "                elif act_inf == 'VARIANCE':\n",
    "                    \n",
    "                    file_name += 'v'+str(budget)+'.csv'\n",
    "                    \n",
    "                    pred_matrix = build_pred_mat_using_Variance(test_matrix,budget,modelled_matrix,48) #48 timestamps\n",
    "                \n",
    "                #Generate the output file\n",
    "                row_ids = [x for x in range(0,50)] #50 sensors\n",
    "\n",
    "                col_ids = list(np.arange(0.5,24.5,0.5))\n",
    "                col_ids += col_ids\n",
    "                col_ids = [x if x!= 24 else 0 for x in col_ids]\n",
    "\n",
    "                df = pd.DataFrame(pred_matrix, index=row_ids, columns=col_ids)\n",
    "                df.to_csv(file_name, index=True, header=True, sep=',')\n",
    "                \n",
    "                #Reloading test_mat because I think python passes np arrays as pass by reference.\n",
    "                test_matrix = get_data_matrix(test_ds_path)\n",
    "\n",
    "                #Compute Mean Abs errors of predicted Matrix                \n",
    "                \n",
    "                sub_mas[act_inf].append(mean_abs_error(test_matrix,pred_matrix))\n",
    "                \n",
    "            main_mas[data_set] = sub_mas\n",
    "            \n",
    "    return main_mas"
   ]
  },
  {
   "cell_type": "code",
   "execution_count": 13,
   "metadata": {
    "collapsed": false
   },
   "outputs": [
    {
     "name": "stdout",
     "output_type": "stream",
     "text": [
      "\n",
      "Temperature WINDOW\n",
      "\n",
      "Temperature VARIANCE\n",
      "\n",
      "Humidity WINDOW\n",
      "\n",
      "Humidity VARIANCE\n"
     ]
    }
   ],
   "source": [
    "predictions = predict(['Temperature','Humidity'],['WINDOW','VARIANCE'])"
   ]
  },
  {
   "cell_type": "markdown",
   "metadata": {},
   "source": [
    "<h3> Let's Plot Graphs </h3>"
   ]
  },
  {
   "cell_type": "code",
   "execution_count": 14,
   "metadata": {
    "collapsed": true
   },
   "outputs": [],
   "source": [
    "def get_ax(g_bar,r_bar,budgets):\n",
    "    #Courtesy : Mathplotlib.org\n",
    "    N = len(budgets)\n",
    "    windowMeans = g_bar\n",
    "\n",
    "    ind = np.arange(N)  # the x locations for the groups\n",
    "    width = 0.4       # the width of the bars\n",
    "\n",
    "    fig, ax = plt.subplots()\n",
    "    rects1 = ax.bar(ind, windowMeans, width, color='g' )\n",
    "\n",
    "    varianceMeans = r_bar\n",
    "\n",
    "    rects2 = ax.bar(ind + width, varianceMeans, width, color='r')\n",
    "\n",
    "    # add some text for labels, title and axes ticks\n",
    "    ax.set_ylabel('Mean Absolute Error')\n",
    "    ax.set_xlabel('Budget')\n",
    "\n",
    "    ax.set_xticks(ind + width)\n",
    "\n",
    "        \n",
    "    ax.set_xticklabels((budgets[0],budgets[1],budgets[2],budgets[3],budgets[4]))\n",
    "\n",
    "    ax.legend((rects1[0], rects2[0]), ('Window', 'Variance'))\n",
    "    \n",
    "    return ax,rects1,rects2"
   ]
  },
  {
   "cell_type": "code",
   "execution_count": 15,
   "metadata": {
    "collapsed": false
   },
   "outputs": [],
   "source": [
    "def autolabel(rects,ax):\n",
    "    #Courtesy : mathplotlib.org\n",
    "    for rect in rects:\n",
    "        height = rect.get_height()        \n",
    "        \n",
    "        ax.text(rect.get_x() + float(rect.get_width())/2., 1.09*height,\n",
    "                '%f' % float(height),\n",
    "                ha='center', va='bottom')"
   ]
  },
  {
   "cell_type": "code",
   "execution_count": 16,
   "metadata": {
    "collapsed": false
   },
   "outputs": [],
   "source": [
    "def plot(budgets,predictions):\n",
    "    \n",
    "    for k1 in predictions.keys(): \n",
    "                \n",
    "        _list = []\n",
    "        \n",
    "        for k2,v in predictions[k1].items():\n",
    "            if v!= []:\n",
    "                _list.append(v)\n",
    "                \n",
    "        ax,rects1,rects2 = get_ax(_list[1],_list[0],budgets)\n",
    "\n",
    "        autolabel(rects1,ax)\n",
    "        autolabel(rects2,ax)\n",
    "        \n",
    "        plt.title(k1)\n",
    "        \n",
    "        plt.show()"
   ]
  },
  {
   "cell_type": "code",
   "execution_count": 17,
   "metadata": {
    "collapsed": false
   },
   "outputs": [
    {
     "data": {
      "image/png": "[encoded data removed]",
      "text/plain": [
       "<matplotlib.figure.Figure at 0xb6756a0>"
      ]
     },
     "metadata": {},
     "output_type": "display_data"
    },
    {
     "data": {
      "image/png": "[encoded data removed]",
      "text/plain": [
       "<matplotlib.figure.Figure at 0xbabef98>"
      ]
     },
     "metadata": {},
     "output_type": "display_data"
    }
   ],
   "source": [
    "plot([0,5,10,20,25],predictions)"
   ]
  },
  {
   "cell_type": "code",
   "execution_count": null,
   "metadata": {
    "collapsed": true
   },
   "outputs": [],
   "source": []
  }
 ],
 "metadata": {
  "kernelspec": {
   "display_name": "Python 2",
   "language": "python",
   "name": "python2"
  },
  "language_info": {
   "codemirror_mode": {
    "name": "ipython",
    "version": 2
   },
   "file_extension": ".py",
   "mimetype": "text/x-python",
   "name": "python",
   "nbconvert_exporter": "python",
   "pygments_lexer": "ipython2",
   "version": "2.7.11"
  }
 },
 "nbformat": 4,
 "nbformat_minor": 0
}
