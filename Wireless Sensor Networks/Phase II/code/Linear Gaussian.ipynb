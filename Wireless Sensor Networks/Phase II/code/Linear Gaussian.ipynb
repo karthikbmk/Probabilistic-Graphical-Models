{
 "cells": [
  {
   "cell_type": "markdown",
   "metadata": {},
   "source": [
    "# Linear Chain Gaussian Bayesian Nets"
   ]
  },
  {
   "cell_type": "code",
   "execution_count": 1,
   "metadata": {
    "collapsed": true
   },
   "outputs": [],
   "source": [
    "import numpy as np\n",
    "from itertools import cycle\n",
    "import matplotlib.pyplot as plt\n",
    "from collections import defaultdict\n",
    "import pandas as pd\n",
    "import os as os\n",
    "%matplotlib inline\n",
    "from sklearn.linear_model import LinearRegression"
   ]
  },
  {
   "cell_type": "code",
   "execution_count": 2,
   "metadata": {
    "collapsed": true
   },
   "outputs": [],
   "source": [
    "def get_data_matrix(file_path):    \n",
    "    '''Strip out the first row and first column and return data matrix'''\n",
    "    data = np.loadtxt(file_path, delimiter=',', skiprows=1)\n",
    "    return data[:,1:]"
   ]
  },
  {
   "cell_type": "code",
   "execution_count": 3,
   "metadata": {
    "collapsed": false
   },
   "outputs": [],
   "source": [
    "def create_matrix_for_regression(sensor_readings):\n",
    "    '''\n",
    "    I/P : a np array [1,2,3,4]\n",
    "    O/P : a np matrix of form \n",
    "        |1 2|\n",
    "        |2 3|\n",
    "        |3 4|\n",
    "    '''\n",
    "    matrix = []\n",
    "    for i in range(len(sensor_readings) - 1):\n",
    "        matrix.append([sensor_readings[i],sensor_readings[i+1]])\n",
    "       \n",
    "    return np.array(matrix)"
   ]
  },
  {
   "cell_type": "code",
   "execution_count": 4,
   "metadata": {
    "collapsed": false
   },
   "outputs": [
    {
     "data": {
      "text/plain": [
       "array([[1, 2],\n",
       "       [2, 3],\n",
       "       [3, 4]])"
      ]
     },
     "execution_count": 4,
     "metadata": {},
     "output_type": "execute_result"
    }
   ],
   "source": [
    "create_matrix_for_regression(np.array((1,2,3,4)))"
   ]
  },
  {
   "cell_type": "code",
   "execution_count": 5,
   "metadata": {
    "collapsed": true
   },
   "outputs": [],
   "source": [
    "def compute_regression_coeffs(data_matrix):\n",
    "    '''\n",
    "    I/P : a data_matrix\n",
    "    O/P : The coefficients of the regressed model with a polynomial order of 1.\n",
    "    '''    \n",
    "    row_len = len(data_matrix[0])\n",
    "    \n",
    "    \n",
    "    X_train = data_matrix[:,0:row_len-1]        \n",
    "    y_train = data_matrix[:,row_len-1:]\n",
    "    \n",
    "    regr = LinearRegression()\n",
    "    \n",
    "    regr.fit(X_train, y_train)\n",
    "    \n",
    "    coefs = [] \n",
    "    \n",
    "    #beta_0\n",
    "    coefs.append(regr.intercept_[0])\n",
    "    \n",
    "    #Remaining betas\n",
    "    for x in regr.coef_[0]:\n",
    "        coefs.append(x)\n",
    "    \n",
    "    return coefs"
   ]
  },
  {
   "cell_type": "code",
   "execution_count": 6,
   "metadata": {
    "collapsed": false
   },
   "outputs": [
    {
     "name": "stdout",
     "output_type": "stream",
     "text": [
      "2 + 3x matrix\n",
      "\n",
      "[[  2   8]\n",
      " [  5  17]\n",
      " [ 15  47]\n",
      " [ 45 137]]\n",
      "\n",
      "Betas \n",
      "\n",
      "[2.0000000000000142, 2.9999999999999991]\n"
     ]
    }
   ],
   "source": [
    "print '2 + 3x matrix\\n'\n",
    "dm = np.array([[2,8],[5,17],[15,47],[45,137]])\n",
    "print dm\n",
    "\n",
    "print '\\nBetas \\n'\n",
    "print compute_regression_coeffs(dm)"
   ]
  },
  {
   "cell_type": "code",
   "execution_count": 7,
   "metadata": {
    "collapsed": true
   },
   "outputs": [],
   "source": [
    "def get_cond_variance(actual_lst,predicted_lst):\n",
    "    '''\n",
    "    I/P : Actual and predicted readings.\n",
    "    O/P : Conditional Variance, which is the variance of errors.    \n",
    "    '''\n",
    "    \n",
    "    actual_lst = np.array(actual_lst)\n",
    "    predicted_lst = np.array(predicted_lst)\n",
    "    \n",
    "    error = actual_lst - predicted_lst\n",
    "    \n",
    "    return np.var(error)"
   ]
  },
  {
   "cell_type": "code",
   "execution_count": 8,
   "metadata": {
    "collapsed": false
   },
   "outputs": [
    {
     "data": {
      "text/plain": [
       "6.25"
      ]
     },
     "execution_count": 8,
     "metadata": {},
     "output_type": "execute_result"
    }
   ],
   "source": [
    "get_cond_variance([1,2],[3,9])"
   ]
  },
  {
   "cell_type": "code",
   "execution_count": 9,
   "metadata": {
    "collapsed": true
   },
   "outputs": [],
   "source": [
    "def get_mean(beta_0,beta_1,prev_mean):\n",
    "    '''Return current mean based on the the previous node''s mean'''\n",
    "    '''Current mean , Mu_i = B_0 + B_1*Mu_i-1'''\n",
    "    \n",
    "    return beta_0 + (beta_1 * prev_mean)"
   ]
  },
  {
   "cell_type": "code",
   "execution_count": 10,
   "metadata": {
    "collapsed": true
   },
   "outputs": [],
   "source": [
    "def get_var(cond_var,beta_1,prev_sigma):\n",
    "    '''Return current var based on the the previous node''s var'''\n",
    "    '''Current var , sigma_i = cond_var + (B_1^2)*sigma_i-1'''\n",
    "    \n",
    "    return cond_var + ((beta_1**2) * prev_sigma)"
   ]
  },
  {
   "cell_type": "markdown",
   "metadata": {},
   "source": [
    "##Modelling"
   ]
  },
  {
   "cell_type": "markdown",
   "metadata": {},
   "source": [
    "###Model I : Totally 5 parameters per sensor.<br>\n",
    "$1.\\mu_{i}$ : Mean of all readings of a sensor<br>\n",
    "$2.\\sigma_{i}$ : Variance of all readings of a sensor<br>\n",
    "$3.\\beta_{0}$ : Regression coeff1<br>\n",
    "$4.\\beta_{1}$ : Regression coeff2<br>\n",
    "$5.\\sigma^{2}$ : Conditional Variance<br>\n"
   ]
  },
  {
   "cell_type": "code",
   "execution_count": 11,
   "metadata": {
    "collapsed": false
   },
   "outputs": [],
   "source": [
    "def get_model_1_params(data_set):\n",
    "    '''Compute the Linear chain Gaussian Model parameters at each sensor and return the modelled matrix\n",
    "       Ever sensor will have its own (mu_i,var_i,b_0,b_1,sigma**2) tuples\n",
    "    '''\n",
    "    no_of_sensors = data_set.shape[0]\n",
    "    no_of_time_stamps = data_set.shape[1]\n",
    "    \n",
    "    modelled_mat = []\n",
    "    \n",
    "    for s_id in range(0,no_of_sensors):\n",
    "        #Compute 5 params [START]        \n",
    "        \n",
    "        mu_i = np.mean(data_set[s_id])\n",
    "        var_i = np.var(data_set[s_id])\n",
    "        \n",
    "        reg_mat = create_matrix_for_regression(data_set[s_id])        \n",
    "        betas = compute_regression_coeffs(reg_mat)\n",
    "                        \n",
    "        true_y = reg_mat[:,1:2]\n",
    "        x = reg_mat[:,0:1]\n",
    "        \n",
    "        pred_y = betas[0] + betas[1]*x\n",
    "        \n",
    "        cond_var = get_cond_variance(true_y,pred_y)\n",
    "        #Compute 5 params [END]\n",
    "        \n",
    "        modelled_mat.append((mu_i,var_i,betas[0],betas[1],cond_var))\n",
    "        \n",
    "    return modelled_mat"
   ]
  },
  {
   "cell_type": "code",
   "execution_count": 95,
   "metadata": {
    "collapsed": false
   },
   "outputs": [
    {
     "name": "stdout",
     "output_type": "stream",
     "text": [
      "50\n",
      "(21.613888888888887, 6.8405015432098768, 0.80555773651311213, 0.96339227181482645, 0.42905098291130261)\n"
     ]
    }
   ],
   "source": [
    "dm = get_data_matrix('intelTemperatureTrain.csv')\n",
    "model_1_params = get_model_1_params(dm)\n",
    "print len(model_1_params)\n",
    "print model_1_params[0]"
   ]
  },
  {
   "cell_type": "markdown",
   "metadata": {},
   "source": [
    "###Model II  : <br>\n",
    "$1.\\mu_{i}$ : Mean of time 0 reading sensor across 3 days<br>\n",
    "$2.\\sigma_{i}$ : Variance of time 0 reading sensor across 3 days<br>\n",
    "$3.\\beta^{i}_{0}$ : Regression coeff1 for $i^{th}$ node<br>\n",
    "$4.\\beta^{i}_{1}$ : Regression coeff2 for $i_{th}$ node<br>\n",
    "$5.\\sigma^{2}_{i}$ : Conditional Variance<br>"
   ]
  },
  {
   "cell_type": "code",
   "execution_count": 14,
   "metadata": {
    "collapsed": false
   },
   "outputs": [],
   "source": [
    "def get_model_2_matrix(data_set,train_days):\n",
    "    '''Fit the model 2 for the train set'''\n",
    "    no_of_sensors = data_set.shape[0]\n",
    "    no_of_time_stamps = data_set.shape[1]/train_days\n",
    "    \n",
    "    modelled_matrix = np.zeros((no_of_sensors,no_of_time_stamps),dtype=tuple)\n",
    "            \n",
    "    for s_id in range(0,no_of_sensors):    \n",
    "        \n",
    "        consolidated_first_reading = [data_set[s_id][no_of_time_stamps*0],data_set[s_id][no_of_time_stamps*1],data_set[s_id][no_of_time_stamps*2]]\n",
    "        mu_i =  np.mean(consolidated_first_reading)\n",
    "        sigma_i = np.var(consolidated_first_reading)\n",
    "        \n",
    "        modelled_matrix[s_id,0] = (mu_i,sigma_i)\n",
    "        \n",
    "        #compute betas from timestamp 1 onwards. ignore 0.5\n",
    "        #print 'sensor ', s_id , ' -->'\n",
    "        for time_stamp in range(0,no_of_time_stamps-1):\n",
    "            \n",
    "            day1_idx = time_stamp + (no_of_time_stamps*0)\n",
    "            day2_idx = time_stamp + (no_of_time_stamps*1)\n",
    "            day3_idx = time_stamp + (no_of_time_stamps*2)\n",
    "            \n",
    "            x_day_1 = data_set[s_id,day1_idx]\n",
    "            y_day_1 = data_set[s_id,day1_idx+1]\n",
    "            \n",
    "            x_day_2 = data_set[s_id,day2_idx]\n",
    "            y_day_2 = data_set[s_id,day2_idx+1]\n",
    "            \n",
    "            x_day_3 = data_set[s_id,day3_idx]\n",
    "            y_day_3 = data_set[s_id,day3_idx+1]\n",
    "            \n",
    "            matrix_for_regression = np.array([[x_day_1,y_day_1],[x_day_2,y_day_2],[x_day_3,y_day_3]])\n",
    "            \n",
    "            \n",
    "            betas = compute_regression_coeffs(matrix_for_regression)\n",
    "            \n",
    "            true_y = matrix_for_regression[:,1:2]\n",
    "            x = matrix_for_regression[:,0:1]\n",
    "        \n",
    "            pred_y = betas[0] + betas[1]*x\n",
    "            \n",
    "            cond_var = get_cond_variance(true_y,pred_y)\n",
    "            \n",
    "            modelled_matrix[s_id,time_stamp+1] = (betas[0],betas[1],cond_var)\n",
    "        \n",
    "    return modelled_matrix\n",
    "            \n",
    "    "
   ]
  },
  {
   "cell_type": "code",
   "execution_count": 15,
   "metadata": {
    "collapsed": false
   },
   "outputs": [
    {
     "data": {
      "text/plain": [
       "(0.35733590733590681, 0.97490347490347484, 0.0018597168597168426)"
      ]
     },
     "execution_count": 15,
     "metadata": {},
     "output_type": "execute_result"
    }
   ],
   "source": [
    "dm = get_data_matrix('intelTemperatureTrain.csv')\n",
    "mod_mat = get_model_2_matrix(dm,3)\n",
    "mod_mat[49][5]"
   ]
  },
  {
   "cell_type": "code",
   "execution_count": 16,
   "metadata": {
    "collapsed": false
   },
   "outputs": [
    {
     "data": {
      "text/plain": [
       "LinearRegression(copy_X=True, fit_intercept=True, n_jobs=1, normalize=False)"
      ]
     },
     "execution_count": 16,
     "metadata": {},
     "output_type": "execute_result"
    }
   ],
   "source": [
    "dm = \\\n",
    "np.array([[1.62E+01,1.62E+01],\n",
    "[1.45E+01,1.45E+01],\n",
    "[1.60E+01,1.59E+01]])\n",
    "\n",
    "clf = LinearRegression()\n",
    "clf.fit(dm[:,0:1],dm[:,1:2])\n"
   ]
  },
  {
   "cell_type": "markdown",
   "metadata": {
    "collapsed": true
   },
   "source": [
    "##Inference"
   ]
  },
  {
   "cell_type": "markdown",
   "metadata": {},
   "source": [
    "####Window Inference:\n",
    "for every column<br>\n",
    "{<br>\n",
    "  Recompute $\\mu$ based on previous column's $\\mu$<br>\n",
    "  to_be_predicted = {All - ones in window}\n",
    "  set values for to_be_predicted = $\\mu$  <br>\n",
    "}"
   ]
  },
  {
   "cell_type": "code",
   "execution_count": 17,
   "metadata": {
    "collapsed": true
   },
   "outputs": [],
   "source": [
    "def chunks(_list,size):\n",
    "    '''Get Chunks of size size from a list _list '''\n",
    "    for x in xrange(0, len(_list),size):\n",
    "        yield _list[x:x+size]"
   ]
  },
  {
   "cell_type": "code",
   "execution_count": 18,
   "metadata": {
    "collapsed": true
   },
   "outputs": [],
   "source": [
    "def get_windows(no_of_sensors,no_of_cols,budget):    \n",
    "    '''Get the window indices for each column/each time-stamp'''\n",
    "    pool = cycle(range(0,no_of_sensors))\n",
    "\n",
    "    final_list = []\n",
    "\n",
    "    if budget == 0 :\n",
    "        \n",
    "        for _ in range(0,no_of_cols):\n",
    "            final_list.append([])\n",
    "            \n",
    "        return final_list\n",
    "    \n",
    "    else:\n",
    "        \n",
    "        for _id,x in enumerate(pool):\n",
    "            if _id == budget * no_of_cols:\n",
    "                break\n",
    "            final_list.append(x)\n",
    "\n",
    "        return list(chunks(final_list, budget))"
   ]
  },
  {
   "cell_type": "code",
   "execution_count": 19,
   "metadata": {
    "collapsed": false
   },
   "outputs": [
    {
     "data": {
      "text/plain": [
       "[[0, 1, 2], [3, 0, 1], [2, 3, 0], [1, 2, 3], [0, 1, 2]]"
      ]
     },
     "execution_count": 19,
     "metadata": {},
     "output_type": "execute_result"
    }
   ],
   "source": [
    "get_windows(4,5,3)"
   ]
  },
  {
   "cell_type": "markdown",
   "metadata": {},
   "source": [
    "### Build Prediction matrix for Model 1 using Window Sliding"
   ]
  },
  {
   "cell_type": "code",
   "execution_count": 44,
   "metadata": {
    "collapsed": false
   },
   "outputs": [],
   "source": [
    "def model_1_build_pred_mat_using_sliding(test_matrix,budget,sensor_params):\n",
    "    '''Predict the ones that are not in window. For the rest, use test data'''\n",
    "    total_cols = test_matrix.shape[1]\n",
    "    total_rows = test_matrix.shape[0]\n",
    "\n",
    "    \n",
    "    windows = get_windows(total_rows,total_cols,budget)\n",
    "\n",
    "    sensor_params = np.array(sensor_params)\n",
    "    \n",
    "    prev_col_means = sensor_params[:,0:1]    \n",
    "    beta_0 = sensor_params[:,2:3]\n",
    "    beta_1 = sensor_params[:,3:4]\n",
    "    \n",
    "    for col in range(0,total_cols):        \n",
    "        \n",
    "        if col >0 :                \n",
    "                prev_col_means = beta_0 + (beta_1*prev_col_means)\n",
    "                \n",
    "        pred_row_ids = set(range(0,total_rows)) - set(windows[col])\n",
    "\n",
    "        for r_id in pred_row_ids:            \n",
    "            \n",
    "            test_matrix[r_id,col] = prev_col_means[r_id]\n",
    "    \n",
    "    return test_matrix"
   ]
  },
  {
   "cell_type": "code",
   "execution_count": 46,
   "metadata": {
    "collapsed": false
   },
   "outputs": [
    {
     "data": {
      "text/plain": [
       "array([[  1,   2, 799],\n",
       "       [  3, 194,  23],\n",
       "       [ 17,   6,  24]])"
      ]
     },
     "execution_count": 46,
     "metadata": {},
     "output_type": "execute_result"
    }
   ],
   "source": [
    "test_matrix = np.array([[1,2,22],[3,4,23],[5,6,24]])\n",
    "sensor_params = [(7,8,9,10,11),(12,13,14,15,16),(17,18,19,20,21)]\n",
    "budget = 2\n",
    "model_1_build_pred_mat_using_sliding(test_matrix,budget,sensor_params)"
   ]
  },
  {
   "cell_type": "code",
   "execution_count": 113,
   "metadata": {
    "collapsed": false
   },
   "outputs": [],
   "source": [
    "\n",
    "for budget in [0, 5, 10, 20, 25]:\n",
    "    \n",
    "    #Train\n",
    "    dm = get_data_matrix('intelTemperatureTrain.csv')\n",
    "    sensor_params = get_model_1_params(dm)\n",
    "\n",
    "    #Test\n",
    "    tm = get_data_matrix('intelTemperatureTest.csv')\n",
    "    pred_mat = model_1_build_pred_mat_using_sliding(tm,budget,sensor_params)\n",
    "    pred_mat\n",
    "\n",
    "    #Evaluate\n",
    "    tm = get_data_matrix('intelTemperatureTest.csv')\n",
    "    print mean_abs_error(tm,pred_mat)\n"
   ]
  },
  {
   "cell_type": "code",
   "execution_count": 51,
   "metadata": {
    "collapsed": true
   },
   "outputs": [],
   "source": [
    "def mean_abs_error(actual_mat,pred_mat):\n",
    "    '''Compute the mean absolute error'''\n",
    "    diff_mat = np.subtract(actual_mat,pred_mat)\n",
    "    diff_mat = np.fabs(diff_mat)\n",
    "    \n",
    "    total_cells = diff_mat.shape[0] * diff_mat.shape[1]\n",
    "    \n",
    "    mean_abs_error = float(np.sum(diff_mat))/ total_cells\n",
    "    \n",
    "    return mean_abs_error"
   ]
  },
  {
   "cell_type": "code",
   "execution_count": 53,
   "metadata": {
    "collapsed": false
   },
   "outputs": [
    {
     "data": {
      "text/plain": [
       "1.4281901189194444"
      ]
     },
     "execution_count": 53,
     "metadata": {},
     "output_type": "execute_result"
    }
   ],
   "source": [
    "tm = get_data_matrix('intelTemperatureTest.csv')\n",
    "mean_abs_error(tm,pred_mat)"
   ]
  },
  {
   "cell_type": "code",
   "execution_count": 125,
   "metadata": {
    "collapsed": false
   },
   "outputs": [
    {
     "name": "stdout",
     "output_type": "stream",
     "text": [
      "0 , 5.36506753365\n",
      "5 , 4.82813742104\n",
      "10 , 4.30431623368\n",
      "20 , 3.23055707571\n",
      "25 , 2.6813335661\n"
     ]
    }
   ],
   "source": [
    "\n",
    "for budget in [0, 5, 10, 20, 25]:\n",
    "    \n",
    "    #Train\n",
    "    dm = get_data_matrix('intelHumidityTrain.csv')\n",
    "    sensor_params = get_model_1_params(dm)\n",
    "\n",
    "    #Test\n",
    "    tm = get_data_matrix('intelHumidityTest.csv')\n",
    "    pred_mat = model_1_build_pred_mat_using_sliding(tm,budget,sensor_params)\n",
    "    pred_mat\n",
    "\n",
    "    #Evaluate\n",
    "    tm = get_data_matrix('intelHumidityTest.csv')\n",
    "    print budget, ',', mean_abs_error(tm,pred_mat)\n"
   ]
  },
  {
   "cell_type": "code",
   "execution_count": 122,
   "metadata": {
    "collapsed": false
   },
   "outputs": [
    {
     "name": "stdout",
     "output_type": "stream",
     "text": [
      "0 , 5.36506753365\n",
      "5 , 4.82813742104\n",
      "10 , 4.30431623368\n",
      "20 , 3.23055707571\n",
      "25 , 2.6813335661\n"
     ]
    }
   ],
   "source": [
    "\n",
    "for budget in [0, 5, 10, 20, 25]:\n",
    "    \n",
    "    #Train\n",
    "    dm = get_data_matrix('intelHumidityTrain.csv')\n",
    "    sensor_params = get_model_1_params(dm)\n",
    "\n",
    "    #Test\n",
    "    tm = get_data_matrix('intelHumidityTest.csv')\n",
    "    pred_mat = model_1_build_pred_mat_using_sliding(tm,budget,sensor_params)\n",
    "    pred_mat\n",
    "\n",
    "    #Evaluate\n",
    "    tm = get_data_matrix('intelHumidityTest.csv')\n",
    "    print budget, ',', mean_abs_error(tm,pred_mat)\n"
   ]
  },
  {
   "cell_type": "markdown",
   "metadata": {},
   "source": [
    "### Build Prediction matrix for Model 2 using Window Sliding"
   ]
  },
  {
   "cell_type": "code",
   "execution_count": 54,
   "metadata": {
    "collapsed": false
   },
   "outputs": [
    {
     "data": {
      "text/plain": [
       "(50L, 48L)"
      ]
     },
     "execution_count": 54,
     "metadata": {},
     "output_type": "execute_result"
    }
   ],
   "source": [
    "dm = get_data_matrix('intelTemperatureTrain.csv')\n",
    "model_2_matrix = get_model_2_matrix(dm,3)\n",
    "model_2_matrix.shape"
   ]
  },
  {
   "cell_type": "code",
   "execution_count": 84,
   "metadata": {
    "collapsed": true
   },
   "outputs": [],
   "source": [
    "def construct_mean_matrix(modelled_matrix):\n",
    "    \n",
    "    rows = modelled_matrix.shape[0]\n",
    "    cols = modelled_matrix.shape[1]\n",
    "    \n",
    "    mean_matrix = np.zeros((rows,cols),dtype=float)\n",
    "    for row in range(0,rows):\n",
    "        for col in range(0,cols):\n",
    "            if col == 0:\n",
    "                mean_matrix[row,col] = modelled_matrix[row][col][0]\n",
    "            else:\n",
    "                beta_0 = modelled_matrix[row][col][0]\n",
    "                beta_1 = modelled_matrix[row][col][1]\n",
    "                                \n",
    "                prev_mean = mean_matrix[row][col-1]\n",
    "                \n",
    "                mean_matrix[row,col] = beta_0 + (beta_1 * prev_mean)\n",
    "    return mean_matrix"
   ]
  },
  {
   "cell_type": "code",
   "execution_count": 87,
   "metadata": {
    "collapsed": true
   },
   "outputs": [],
   "source": [
    "def model_2_build_pred_mat_using_sliding(test_matrix,budget,model_2_matrix,max_cols=48):\n",
    "    '''Predict the ones that are not in window. For the rest, use test data'''\n",
    "    total_cols = test_matrix.shape[1]\n",
    "    total_rows = test_matrix.shape[0]\n",
    "\n",
    "    mean_matrix = construct_mean_matrix(model_2_matrix)\n",
    "    \n",
    "    windows = get_windows(total_rows,total_cols,budget)\n",
    "\n",
    "    for col in range(0,total_cols):\n",
    "        \n",
    "        if col >= max_cols:\n",
    "            mod_col = col % max_cols\n",
    "        else:\n",
    "            mod_col = col\n",
    "        #Row Ids to be predicted\n",
    "        pred_row_ids = set(range(0,total_rows)) - set(windows[col])\n",
    "        \n",
    "\n",
    "        for r_id in pred_row_ids:            \n",
    "            \n",
    "            test_matrix[r_id,col] =  mean_matrix[r_id,mod_col]      \n",
    "    \n",
    "    return test_matrix"
   ]
  },
  {
   "cell_type": "code",
   "execution_count": 88,
   "metadata": {
    "collapsed": false
   },
   "outputs": [
    {
     "name": "stdout",
     "output_type": "stream",
     "text": [
      "[[(1, 2) (7, 8, 9) (16, 17, 18)]\n",
      " [(3, 4) (10, 11, 12) (19, 20, 21)]\n",
      " [(5, 6) (13, 14, 15) (22, 23, 24)]]\n"
     ]
    },
    {
     "data": {
      "text/plain": [
       "array([[ 50,  51, 271],\n",
       "       [ 53,  43,  55],\n",
       "       [  5,  57,  58]])"
      ]
     },
     "execution_count": 88,
     "metadata": {},
     "output_type": "execute_result"
    }
   ],
   "source": [
    "train_matrix = np.array([[1,2,7],[3,4,8],[5,6,9]])\n",
    "sensor_params = np.array([[(1,2),(7,8,9),(16,17,18)],[(3,4),(10,11,12),(19,20,21)],[(5,6),(13,14,15),(22,23,24)]])\n",
    "print sensor_params\n",
    "test_matrix = np.array([[50,51,52],[53,54,55],[56,57,58]])\n",
    "budget = 2\n",
    "model_2_build_pred_mat_using_sliding(test_matrix,budget,sensor_params)"
   ]
  },
  {
   "cell_type": "code",
   "execution_count": 115,
   "metadata": {
    "collapsed": false
   },
   "outputs": [
    {
     "data": {
      "text/plain": [
       "\"\\n#Train\\ndm = get_data_matrix('intelTemperatureTrain.csv')\\nsensor_params = get_model_2_matrix(dm,3)\\n\\n#Test\\ntm = get_data_matrix('intelTemperatureTest.csv')\\npred_mat = model_2_build_pred_mat_using_sliding(tm,25,sensor_params)\\n\\n#Evaluate\\ntm = get_data_matrix('intelTemperatureTest.csv')\\nmean_abs_error(tm,pred_mat)\""
      ]
     },
     "execution_count": 115,
     "metadata": {},
     "output_type": "execute_result"
    }
   ],
   "source": [
    "for budget in [0, 5, 10, 20, 25]:\n",
    "    \n",
    "    #Train\n",
    "    dm = get_data_matrix('intelHumidityTrain.csv')\n",
    "    sensor_params = get_model_2_matrix(dm,3)\n",
    "\n",
    "    #Test\n",
    "    tm = get_data_matrix('intelHumidityTest.csv')\n",
    "    pred_mat = model_2_build_pred_mat_using_sliding(tm,budget,sensor_params)\n",
    "\n",
    "    #Generate the output file\n",
    "    row_ids = [x for x in range(0,50)] #50 sensors\n",
    "\n",
    "    col_ids = list(np.arange(0.5,24.5,0.5))\n",
    "    col_ids += col_ids\n",
    "    col_ids = [x if x!= 24 else 0 for x in col_ids]\n",
    "\n",
    "    df = pd.DataFrame(pred_mat, index=row_ids, columns=col_ids)\n",
    "    file_name = 'd-w' + str(budget) + '.csv'\n",
    "    df.to_csv(file_name, index=True, header=True, sep=',')\n",
    "\n",
    "'''\n",
    "#Train\n",
    "dm = get_data_matrix('intelTemperatureTrain.csv')\n",
    "sensor_params = get_model_2_matrix(dm,3)\n",
    "\n",
    "#Test\n",
    "tm = get_data_matrix('intelTemperatureTest.csv')\n",
    "pred_mat = model_2_build_pred_mat_using_sliding(tm,25,sensor_params)\n",
    "\n",
    "#Evaluate\n",
    "tm = get_data_matrix('intelTemperatureTest.csv')\n",
    "mean_abs_error(tm,pred_mat)'''"
   ]
  },
  {
   "cell_type": "code",
   "execution_count": 126,
   "metadata": {
    "collapsed": false
   },
   "outputs": [
    {
     "name": "stdout",
     "output_type": "stream",
     "text": [
      "0 , 3.47049305556\n",
      "5 , 3.11869444444\n",
      "10 , 2.78196527778\n",
      "20 , 2.06980555556\n",
      "25 , 1.75699305556\n"
     ]
    }
   ],
   "source": [
    "for budget in [0, 5, 10, 20, 25]:\n",
    "    \n",
    "    #Train\n",
    "    dm = get_data_matrix('intelHumidityTrain.csv')\n",
    "    sensor_params = get_model_2_matrix(dm,3)\n",
    "\n",
    "    #Test\n",
    "    tm = get_data_matrix('intelHumidityTest.csv')\n",
    "    pred_mat = model_2_build_pred_mat_using_sliding(tm,budget,sensor_params)\n",
    "    \n",
    "\n",
    "    #Evaluate\n",
    "    tm = get_data_matrix('intelHumidityTest.csv')\n",
    "    print budget, ',', mean_abs_error(tm,pred_mat)\n"
   ]
  },
  {
   "cell_type": "code",
   "execution_count": 123,
   "metadata": {
    "collapsed": false
   },
   "outputs": [
    {
     "name": "stdout",
     "output_type": "stream",
     "text": [
      "0 , 3.47049305556\n",
      "5 , 3.11869444444\n",
      "10 , 2.78196527778\n",
      "20 , 2.06980555556\n",
      "25 , 1.75699305556\n"
     ]
    }
   ],
   "source": [
    "for budget in [0, 5, 10, 20, 25]:\n",
    "    \n",
    "    #Train\n",
    "    dm = get_data_matrix('intelHumidityTrain.csv')\n",
    "    sensor_params = get_model_2_matrix(dm,3)\n",
    "\n",
    "    #Test\n",
    "    tm = get_data_matrix('intelHumidityTest.csv')\n",
    "    pred_mat = model_2_build_pred_mat_using_sliding(tm,budget,sensor_params)\n",
    "    \n",
    "\n",
    "    #Evaluate\n",
    "    tm = get_data_matrix('intelHumidityTest.csv')\n",
    "    print budget, ',', mean_abs_error(tm,pred_mat)\n"
   ]
  },
  {
   "cell_type": "code",
   "execution_count": 102,
   "metadata": {
    "collapsed": false
   },
   "outputs": [],
   "source": [
    "#(mu_i,var_i,b_0,b_1,sigma**2)\n",
    "\n",
    "def model_1_test_matrix(model_1_params, test_matrix):\n",
    "    \n",
    "    total_cols = test_matrix.shape[1]\n",
    "    total_rows = test_matrix.shape[0]\n",
    "    \n",
    "    model_2_mat = np.zeros((total_rows,total_cols),dtype=list)\n",
    "    \n",
    "    for r_id in range(0,total_rows):\n",
    "        \n",
    "        for c_id in range(0,total_cols):\n",
    "            \n",
    "            sensor_params = model_1_params[r_id]\n",
    "            mu_i = sensor_params[0]\n",
    "            sigma_i = sensor_params[1]\n",
    "            b_0 = sensor_params[2]\n",
    "            b_1 = sensor_params[3]\n",
    "            cond_var = sensor_params[4]\n",
    "            \n",
    "            if c_id == 0:                \n",
    "                model_2_mat[r_id,c_id] = [mu_i,sigma_i]            \n",
    "            else:\n",
    "                mu = b_0 + (b_1*model_2_mat[r_id,c_id-1][0])\n",
    "                sigma = cond_var + ((b_1**2)*(model_2_mat[r_id,c_id-1][1]))\n",
    "                \n",
    "                model_2_mat[r_id,c_id] = [mu_i,sigma_i]\n",
    "    \n",
    "    return model_2_mat"
   ]
  },
  {
   "cell_type": "code",
   "execution_count": 107,
   "metadata": {
    "collapsed": false
   },
   "outputs": [
    {
     "data": {
      "text/plain": [
       "(50L, 96L)"
      ]
     },
     "execution_count": 107,
     "metadata": {},
     "output_type": "execute_result"
    }
   ],
   "source": [
    "tm = get_data_matrix('intelTemperatureTest.csv')\n",
    "modelled_mat = model_1_test_matrix(model_1_params, tm)\n",
    "\n",
    "model_2_mat = model_1_test_matrix(model_1_params, tm)\n",
    "model_2_mat.shape"
   ]
  },
  {
   "cell_type": "code",
   "execution_count": 108,
   "metadata": {
    "collapsed": true
   },
   "outputs": [],
   "source": [
    "def top_k_indices(_list,k):\n",
    "    '''Return the indices of top k elements of the list'''\n",
    "    return sorted(range(len(_list)), key=lambda i: _list[i], reverse=True)[:k]"
   ]
  },
  {
   "cell_type": "code",
   "execution_count": 109,
   "metadata": {
    "collapsed": true
   },
   "outputs": [],
   "source": [
    "\n",
    "def get_top_var_indices(mod_mat,budget):\n",
    "    '''Extract the indices of cells with top k budgets'''\n",
    "    total_cols = mod_mat.shape[1]\n",
    "    \n",
    "    indices_list = []\n",
    "    for col_id in range(0,total_cols):\n",
    "        \n",
    "        #Extract Mu, sigma for a particular column\n",
    "        cur_col = mod_mat[:,col_id]\n",
    "        \n",
    "        #Extract only sigma from cu_col\n",
    "        sigma_col = [x[1] for x in cur_col]\n",
    "        \n",
    "        top_indices = top_k_indices(sigma_col,budget)\n",
    "        \n",
    "        indices_list.append(top_indices)\n",
    "    \n",
    "    return indices_list"
   ]
  },
  {
   "cell_type": "code",
   "execution_count": 110,
   "metadata": {
    "collapsed": true
   },
   "outputs": [],
   "source": [
    "def build_pred_mat_using_Variance(test_matrix,budget,modelled_matrix,max_cols=48):\n",
    "    '''Predict the ones that are not among the top budget variances. For the rest, use existing data'''\n",
    "    total_cols = test_matrix.shape[1]\n",
    "    total_rows = test_matrix.shape[0]\n",
    "\n",
    "    top_var = get_top_var_indices(modelled_matrix,budget)\n",
    "\n",
    "    \n",
    "    for col in range(0,total_cols):\n",
    "        \n",
    "        #Row Ids to be predicted\n",
    "        pred_row_ids = set(range(0,total_rows)) - set(top_var[col])\n",
    "        \n",
    "            \n",
    "        for r_id in pred_row_ids:\n",
    "            #Assign Mu\n",
    "            test_matrix[r_id,col] = modelled_matrix[r_id][col][0]\n",
    "    \n",
    "    return test_matrix"
   ]
  },
  {
   "cell_type": "code",
   "execution_count": null,
   "metadata": {
    "collapsed": true
   },
   "outputs": [],
   "source": []
  }
 ],
 "metadata": {
  "kernelspec": {
   "display_name": "Python 2",
   "language": "python",
   "name": "python2"
  },
  "language_info": {
   "codemirror_mode": {
    "name": "ipython",
    "version": 2
   },
   "file_extension": ".py",
   "mimetype": "text/x-python",
   "name": "python",
   "nbconvert_exporter": "python",
   "pygments_lexer": "ipython2",
   "version": "2.7.11"
  }
 },
 "nbformat": 4,
 "nbformat_minor": 0
}
